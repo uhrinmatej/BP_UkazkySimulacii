{
 "cells": [
  {
   "cell_type": "markdown",
   "metadata": {},
   "source": [
    "**Autor:** [Matej Uhrin](mailto:5283652@upjs.sk)\n",
    "\n",
    "**Podporné materiály k bakalárskej práci <i>Simulácie vybraných stochastických procesov v interaktívnom prostredí</i>**\n",
    "\n",
    "***\n",
    "\n",
    "<br>\n",
    "\n",
    "**<font size=10 color=brown> Homogénny Poissonov proces</font>**\n",
    "\n",
    "<br>\n",
    "\n",
    "<a id=table_of_contents></a>\n",
    "##  Obsah\n",
    "* [Algoritmus simulácie generovaním časov medzi udalosťami](#algo)\n",
    "* [Transplantácie obličiek](#kidneys)\n",
    "\n",
    "<font size=3>Pre návrat na obsah stlačte klávesu Home.</font>\n",
    "---"
   ]
  },
  {
   "cell_type": "code",
   "execution_count": 1,
   "metadata": {},
   "outputs": [],
   "source": [
    "# nacitanie balikov\n",
    "import numpy as np\n",
    "import matplotlib.pyplot as plt"
   ]
  },
  {
   "cell_type": "markdown",
   "metadata": {},
   "source": [
    "***\n",
    "<a id=algo><a>\n",
    "## Algoritmus simulácie generovaním časov medzi udalosťami\n",
    "<blockquote>Časy medzi udalosťami v Poissonovom procese sú nezávislé náhodné veličiny s exponenciálnym rozdelením. Preto nám stačí postupne generovať náhodné čísla z exponenciálneho rozdelenia a kumulovane ich spočítavať. Pre generovanie hodnoty $v$ z exponenciálneho rozdelenia je možné využiť vzťah $v=-\\mu\\ln u$, kde $u$ je náhodné číslo z $[0,1]$ a $\\mu$ je stredná hodnota exponenciálneho rozdelenia. Algoritmus je nasledovný:\n",
    "\n",
    "- Na vstupe máme Poissonov proces $\\{N(t), t\\ge0\\}$ s intenzitou $\\lambda>0$. Zvolíme $T>0$, maximálny čas, po ktorý chceme proces simulovať.\n",
    "- Položíme $t=0$ (aktuálny čas).\n",
    "- Generujeme náhodné číslo $u$ z intervalu $[0,1]$.\n",
    "- Položíme $t=t-\\dfrac{\\ln u}{\\lambda}$.\n",
    "- Ak $t>T$, tak algoritmus končíme. Inak zapíšeme $t$ ako čas udalosti a pokračujeme 3. bodom.\n",
    "\n",
    "Na konci dostaneme realizáciu Poissonovho procesu s danou intenzitou $\\lambda$ ako množinu časov jednotlivých udalostí.</blockquote>\n",
    "\n",
    "\n",
    "Ukážme implementáciu tohto algoritmu v Python-e:"
   ]
  },
  {
   "cell_type": "code",
   "execution_count": 3,
   "metadata": {},
   "outputs": [],
   "source": [
    "def Poisson_process(rate, max_time):\n",
    "    \"\"\"\n",
    "    Vykona realizaciu homogenneho Poissonovho procesu.\n",
    "    \n",
    "    :param rate: intenzita procesu (kladne cislo)\n",
    "    :param max_time: maximalny cas simulacie\n",
    "    :return: pole casov udalosti\n",
    "    \"\"\"\n",
    "    rng = np.random.default_rng()\n",
    "\n",
    "    arrivals = []\n",
    "    time = 0\n",
    "\n",
    "    while True:\n",
    "        u = rng.random()\n",
    "        time -= np.log(u) / rate\n",
    "        if time > max_time:\n",
    "            return np.array(arrivals)\n",
    "        else:\n",
    "            arrivals.append(time)"
   ]
  },
  {
   "cell_type": "markdown",
   "metadata": {},
   "source": [
    "Na demonštráciu algoritmu uvažujme Poissonov proces s intenzitou $\\lambda=2$ a chceme simulovať výskyty udalostí po čas 5."
   ]
  },
  {
   "cell_type": "code",
   "execution_count": 5,
   "metadata": {},
   "outputs": [
    {
     "name": "stdout",
     "output_type": "stream",
     "text": [
      "Casy udalosti:\n",
      "[0.35083108 0.69147221 1.02742326 1.09717197 1.36635965 2.00407519\n",
      " 2.07773301 2.0922952  2.61292848 3.52320034 4.29972954 4.31123735\n",
      " 4.4081296  4.77376731]\n"
     ]
    },
    {
     "data": {
      "image/png": "[encoded data removed]",
      "text/plain": [
       "<Figure size 864x288 with 1 Axes>"
      ]
     },
     "metadata": {
      "needs_background": "light"
     },
     "output_type": "display_data"
    }
   ],
   "source": [
    "rate = 2\n",
    "max_time = 5\n",
    "\n",
    "events = Poisson_process(rate, max_time)\n",
    "print(f\"Casy udalosti:\\n{events}\")\n",
    "\n",
    "# vykreslenie grafu\n",
    "plt.figure(figsize=(12, 4))\n",
    "plt.step([0, *events, max_time], [0, *np.arange(len(events) + 1)])\n",
    "plt.xlim(0, max_time)\n",
    "plt.ylim(0, None)\n",
    "plt.title(f\"Realizácia Poissonovho procesu s intenzitou $\\lambda = {rate}$\")\n",
    "plt.xlabel(\"Čas\")\n",
    "plt.ylabel(\"Počet udalostí\")\n",
    "plt.show()"
   ]
  },
  {
   "cell_type": "markdown",
   "metadata": {},
   "source": [
    "***\n",
    "<a id=kidneys><a>\n",
    "## Transplantácie obličiek\n",
    "<blockquote>Dvaja pacienti A a B čakajú na nutnú transplantáciu obličky. Predpokladajme, že dostupnosť nových obličiek sa riadi Poissonovým procesom s intenzitou $\\lambda$.  Pacienti však nemôžu čakať na obličku neobmedzene dlho, inak zomrú na zlyhanie obličky. Časy úmrtia sa riadia exponenciálnym rozdelením s priemermi $1/\\mu_A$ a $1/\\mu_B$.\n",
    "Predpokladajme, že pacient A je prvý na čakacej listine a B je druhý. Akonáhle bude dostupná oblička, v tom momente prebieha transplantácia obličky pacientovi prvému na čakacej listine. Aká je pravdepodobnosť, že jednotliví pacienti dostanú obličku skôr než zomrú?</blockquote>\n",
    "\n",
    "Pre demonštráciu simulácie uvažujme $\\lambda =2$, $\\mu_A=\\frac{1}{2}$ a  $\\mu_B=\\frac{1}{3}$. Skutočné pravdepodobnosti vyrátané v práci sú\n",
    "$$P(\\text{A dostane novú obličku skôr než zomrie})=\\frac{\\lambda}{\\lambda+\\mu_A}=0.8$$\n",
    "$$P(\\text{B dostane novú obličku skôr než zomrie})=\\frac{\\lambda+\\mu_A}{\\lambda+\\mu_A+\\mu_B}\\cdot\\frac{\\lambda}{\\lambda+\\mu_B}=0.756$$\n",
    "\n",
    "Overme empiricky:"
   ]
  },
  {
   "cell_type": "code",
   "execution_count": 7,
   "metadata": {},
   "outputs": [
    {
     "name": "stdout",
     "output_type": "stream",
     "text": [
      "Empiricka pravdepodobnost, ze A dostane novu oblicku:\t0.8043\n",
      "Empiricka pravdepodobnost, ze B dostane novu oblicku:\t0.7573\n"
     ]
    }
   ],
   "source": [
    "# inicializacia generatora\n",
    "rng = np.random.default_rng()\n",
    "\n",
    "# zvolene parametre\n",
    "lambd = 2\n",
    "mu_a = 1 / 2\n",
    "mu_b = 1 / 3\n",
    "\n",
    "# volitelny parameter N - pocet realizacii\n",
    "N = 10_000\n",
    "\n",
    "# pocitadla meranych velicin\n",
    "a_gets_kidney, b_gets_kidney = 0, 0\n",
    "\n",
    "# simulacia\n",
    "for _ in range(N):\n",
    "    death_a = rng.exponential(scale=1 / mu_a)\n",
    "    death_b = rng.exponential(scale=1 / mu_b)\n",
    "    kidneys = Poisson_process(rate=lambd, max_time=50)\n",
    "    if kidneys[0] < death_a:\n",
    "        # A dostane oblicku\n",
    "        a_gets_kidney += 1\n",
    "        if kidneys[1] < death_b:\n",
    "            # B dostane oblicku\n",
    "            b_gets_kidney += 1\n",
    "    else:\n",
    "        # A zomrie\n",
    "        if kidneys[0] < death_b:\n",
    "            # B dostane oblicku\n",
    "            b_gets_kidney += 1\n",
    "\n",
    "print(f\"Empiricka pravdepodobnost, ze A dostane novu oblicku:\\t{a_gets_kidney / N}\")\n",
    "print(f\"Empiricka pravdepodobnost, ze B dostane novu oblicku:\\t{b_gets_kidney / N}\")"
   ]
  }
 ],
 "metadata": {
  "kernelspec": {
   "display_name": "Python 3 (ipykernel)",
   "language": "python",
   "name": "python3"
  },
  "language_info": {
   "codemirror_mode": {
    "name": "ipython",
    "version": 3
   },
   "file_extension": ".py",
   "mimetype": "text/x-python",
   "name": "python",
   "nbconvert_exporter": "python",
   "pygments_lexer": "ipython3",
   "version": "3.7.5"
  }
 },
 "nbformat": 4,
 "nbformat_minor": 1
}
