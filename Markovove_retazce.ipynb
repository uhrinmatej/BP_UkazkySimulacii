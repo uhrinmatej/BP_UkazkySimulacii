{
 "cells": [
  {
   "cell_type": "markdown",
   "metadata": {},
   "source": [
    "**Autor:** [Matej Uhrin](mailto:5283652@upjs.sk)\n",
    "\n",
    "**Podporné materiály k bakalárskej práci *Simulácie vybraných stochastických procesov v interaktívnom prostredí***\n",
    "\n",
    "***\n",
    "\n",
    "<br>\n",
    "\n",
    "**<font size=10 color=brown> Markovove reťazce</font>**\n",
    "\n",
    "<br>\n",
    "\n",
    "<a id=table_of_contents></a>\n",
    "##  Obsah\n",
    "* [Algoritmus simulácie diskrétneho Markovovho reťazca](#algo)\n",
    "* [Problém vysokoškoláka športovca](#sportstudy)\n",
    "\n",
    "<font size=3>Pre návrat na obsah stlačte klávesu Home.</font>\n",
    "---"
   ]
  },
  {
   "cell_type": "code",
   "execution_count": 4,
   "metadata": {},
   "outputs": [],
   "source": [
    "# nacitanie balikov\n",
    "import numpy as np\n",
    "import matplotlib.pyplot as plt"
   ]
  },
  {
   "cell_type": "markdown",
   "metadata": {},
   "source": [
    "***\n",
    "<a id=algo><a>\n",
    "## Algoritmus simulácie diskrétneho Markovovho reťazca\n",
    "<blockquote>Pri tejto simulácii sa obmedzíme na konečný počet stavov v reťazci. Algoritmus je opäť priamočiary a vychádza z konštrukcie matice pravdepodobnosti prechodu. Uvažujme teda diskrétny Markovov reťazec $\\{X_n, n\\in\\mathbb{N}_0\\},\\  \\mathcal{S}=\\{1,2,\\dots,r\\}$, ktorý je popísaný $r\\times r$ maticou pravdepodobnosti prechodu $\\mathbf{P}$ a počiatočným rozdelením $\\alpha$. Potom:\n",
    "\n",
    "- Zvoľme $k$ - počet krokov, ktoré chceme odsimulovať.\n",
    "- Generovaním z vektora $\\alpha$ vygenerujme počiatočný stav $x_0$.\n",
    "- Pre $i=1,2,\\dots,k$ opakujme:\n",
    "    - Generovaním z $(x_{i-1})$-tého riadku matice $\\mathbf{P}$ vygenerujme stav $x_i$.\n",
    "\n",
    "Výsledkom je množina  $\\{x_n: n=0,1,2,\\dots,k\\}$, kde $x_n$ predstavuje stav reťazca po $n$-tom kroku.</blockquote>\n",
    "\n",
    "\n",
    "Ukážme implementáciu tohto algoritmu v Python-e:"
   ]
  },
  {
   "cell_type": "code",
   "execution_count": 2,
   "metadata": {},
   "outputs": [],
   "source": [
    "def markov_chain(k, prob_matrix, init_dist):\n",
    "    \"\"\"\n",
    "    Vykona prvych k krokov realizacie zadaneho diskretneho Markovoveho retazca.\n",
    "\n",
    "    :param k: Pocet krokov simulacie\n",
    "    :param prob_matrix: Matica pravdepodobnosti prechodu\n",
    "    :param init_dist: Pociatocne rozdelenie\n",
    "    :return: Pole dlzky k+1 - realizacia Markovoveho retazca\n",
    "    \"\"\"\n",
    "    rng = np.random.default_rng()\n",
    "\n",
    "    idx_arr = np.arange(len(prob_matrix))\n",
    "    \n",
    "    # generovanie pociatocneho stavu\n",
    "    init_state = rng.choice(idx_arr, p=init_dist)\n",
    "    X = [init_state]\n",
    "    \n",
    "    # generovanie prvych k stavov\n",
    "    for _ in range(k):\n",
    "        prob_vector = prob_matrix[X[-1]]\n",
    "        X_i = rng.choice(idx_arr, p=prob_vector)\n",
    "        X.append(X_i)\n",
    "        \n",
    "    return np.array(X)"
   ]
  },
  {
   "cell_type": "markdown",
   "metadata": {},
   "source": [
    "Ukážka simulácie diskrétneho Markovového reťazca - uvažujme reťazec so stavovým priestorom $\\mathcal{S}=\\{0,1,2,3\\}$ a maticou pravdepodobnosti prechodu\n",
    "$P=\\begin{pmatrix}\n",
    "0 & 0.5 & 0.5 & 0\\\\\n",
    "0.2 & 0.5 & 0.1 & 0.2\\\\\n",
    "0.4 & 0 & 0.3 & 0.3\\\\\n",
    "0.1 & 0.1 & 0.3 & 0.5\\\\\n",
    "\\end{pmatrix}$ a počiatočným rozdelením $\\alpha = \\left(\\,0.25\\;0.25\\;0.25\\;0.25\\,\\right)$.\n",
    "\n",
    "Vykonajme simuláciu prvých 10 krokov:"
   ]
  },
  {
   "cell_type": "code",
   "execution_count": 6,
   "metadata": {},
   "outputs": [
    {
     "name": "stdout",
     "output_type": "stream",
     "text": [
      "Realizacia Markovoveho retazca:\n",
      "x_0 \t 2\n",
      "x_1 \t 0\n",
      "x_2 \t 2\n",
      "x_3 \t 0\n",
      "x_4 \t 2\n",
      "x_5 \t 3\n",
      "x_6 \t 3\n",
      "x_7 \t 2\n",
      "x_8 \t 0\n",
      "x_9 \t 1\n",
      "x_10 \t 1\n"
     ]
    }
   ],
   "source": [
    "P = [[0, 0.5, 0.5, 0], [0.2, 0.5, 0.1, 0.2], [0.4, 0, 0.3, 0.3], [0.1, 0.1, 0.3, 0.5]]\n",
    "init_dist = [0.25, 0.25, 0.25, 0.25]\n",
    "\n",
    "X = markov_chain(k=10, prob_matrix=P, init_dist=init_dist)\n",
    "\n",
    "# vypis\n",
    "print(\"Realizacia Markovoveho retazca:\")\n",
    "for i, x in enumerate(X):\n",
    "    print(f\"x_{i} \\t {x}\")"
   ]
  },
  {
   "cell_type": "markdown",
   "metadata": {},
   "source": [
    "***\n",
    "<a id=sportstudy><a>\n",
    "## Problém vysokoškoláka športovca\n",
    "<blockquote>Peter je talentový športovec, ale zároveň študuje matematiku na vysokej škole. Každý deň sa chce primerane venovať štúdiu a tiež športovým tréningom. Každú hodinu sa rozhodne, ktorú z týchto aktivít bude najbližšiu hodinu vykonávať. Žiaľ, obe aktivity sú pre Petra rizikové. Pri športovaní sa Peter môže zraniť a z učenia si môže priviesť bolesť hlavy. Keď nastane niektorá z týchto nepríjemných situácií, potom musí Peter dostatočný čas oddychovať a nemôže vykonávať ani jednu zo spomínaných činností. Z predchádzajúcich skúseností Peter zistil, že jeho činnosti sa riadia podľa nasledovného diagramu:</blockquote>\n",
    "\n",
    "<blockquote><img src=\"mc_sportstudy.png\"/></blockquote>"
   ]
  },
  {
   "cell_type": "markdown",
   "metadata": {},
   "source": [
    "Na začiatok vykonajme niekoľko možných realizácií tohto procesu:\n",
    "\n",
    "Z obrázka vieme určiť maticu $\\mathbf{P}=\\begin{matrix}(\\textit{Štúdium})\\\\(\\textit{Šport})\\\\(\\textit{Bolesť hlavy})\\\\(\\textit{Zranenie})\\end{matrix}\\begin{pmatrix}\n",
    "0.75 & 0.2 & 0.05 & 0 \\\\\n",
    "0.4 & 0.5 & 0 & 0.1 \\\\\n",
    "0 & 0 & 1 & 0 \\\\\n",
    "0 & 0 & 0 & 1 \\\\\n",
    "\\end{pmatrix}$"
   ]
  },
  {
   "cell_type": "code",
   "execution_count": 8,
   "metadata": {},
   "outputs": [],
   "source": [
    "P = [[0.75, 0.2, 0.05, 0], [0.4, 0.5, 0, 0.1], [0, 0, 1, 0], [0, 0, 0, 1]]\n",
    "zaciatok_studium = [1, 0, 0, 0]\n",
    "zaciatok_sport = [0, 1, 0, 0]\n",
    "zaciatok_50_50 = [0.5, 0.5, 0, 0]\n",
    "labels = [\"Studium\", \"Sport\", \"Bolest hlavy\", \"Zranenie\"]"
   ]
  },
  {
   "cell_type": "code",
   "execution_count": 14,
   "metadata": {},
   "outputs": [
    {
     "name": "stdout",
     "output_type": "stream",
     "text": [
      "0:\t Studium, Studium, Studium, Sport, Studium, Studium, Studium, Studium, Sport, Sport, Sport\n",
      "1:\t Studium, Studium, Sport, Sport, Sport, Studium, Bolest hlavy, Bolest hlavy, Bolest hlavy, Bolest hlavy, Bolest hlavy\n",
      "2:\t Sport, Sport, Sport, Zranenie, Zranenie, Zranenie, Zranenie, Zranenie, Zranenie, Zranenie, Zranenie\n",
      "3:\t Studium, Studium, Studium, Studium, Studium, Studium, Sport, Sport, Studium, Bolest hlavy, Bolest hlavy\n",
      "4:\t Studium, Studium, Studium, Studium, Studium, Studium, Sport, Studium, Studium, Sport, Sport\n"
     ]
    }
   ],
   "source": [
    "for i in range(5):\n",
    "    X = markov_chain(k=10, prob_matrix=P, init_dist=zaciatok_50_50)\n",
    "    labeled_x = list(map(labels.__getitem__, X))\n",
    "    print(f\"{i}:\\t {', '.join(labeled_x)}\")"
   ]
  },
  {
   "cell_type": "markdown",
   "metadata": {},
   "source": [
    "Na záver overme teoretické závery jednotlivých podotázok:\n",
    "\n",
    "<blockquote>S ktorou aktivitou by mal Peter začať, aby v priemere oddialil vznik nepríjemnej situácie?</blockquote>\n",
    "\n",
    "Ukázali sme, že:\n",
    "\n",
    "$E[\\text{čas vzniknutia nepríjemnej situácie}|\\text{Peter začína štúdiom}]=\\mu(\\text{Štúdium})=15.55$<br>\n",
    "\n",
    "$E[\\text{čas vzniknutia nepríjemnej situácie}|\\text{Peter začína športom}]=\\mu(\\text{Šport})=14.44$"
   ]
  },
  {
   "cell_type": "code",
   "execution_count": 95,
   "metadata": {},
   "outputs": [],
   "source": [
    "def chain_stopping_time(prob_matrix, init_dist):\n",
    "    \"\"\"\n",
    "    Simulacia nasho retazca po prvy prechod do neprijemneho stavu.\n",
    "    \"\"\"\n",
    "    rng = np.random.default_rng()\n",
    "\n",
    "    idx_arr = np.arange(len(prob_matrix))\n",
    "    state = rng.choice(idx_arr, p=init_dist)\n",
    "    time = 0\n",
    "    while state < 2:\n",
    "        prob_vector = prob_matrix[state]\n",
    "        state = rng.choice(idx_arr, p=prob_vector)\n",
    "        time += 1\n",
    "    return time"
   ]
  },
  {
   "cell_type": "code",
   "execution_count": 97,
   "metadata": {},
   "outputs": [
    {
     "name": "stdout",
     "output_type": "stream",
     "text": [
      "Priemerny cas vzniknutia neprijemnej situacie, ak zacina studiom:\t15.553\n",
      "Priemerny cas vzniknutia neprijemnej situacie, ak zacina sportom:\t14.444\n"
     ]
    }
   ],
   "source": [
    "# volitelny parameter N - pocet realizacii\n",
    "N = 100_000\n",
    "\n",
    "# pocitadla meranych velicin\n",
    "study_times, sport_times = [], []\n",
    "\n",
    "# simulacia\n",
    "for _ in range(N):\n",
    "    study_times.append(chain_stopping_time(prob_matrix=P, init_dist=zaciatok_studium))\n",
    "    sport_times.append(chain_stopping_time(prob_matrix=P, init_dist=zaciatok_sport))\n",
    "\n",
    "# vypis empirickych hodnot\n",
    "print(f\"Priemerny cas vzniknutia neprijemnej situacie, ak zacina studiom:\\t{np.mean(study_times):.3f}\")\n",
    "print(f\"Priemerny cas vzniknutia neprijemnej situacie, ak zacina sportom:\\t{np.mean(sport_times):.3f}\")"
   ]
  },
  {
   "cell_type": "markdown",
   "metadata": {},
   "source": [
    "<blockquote>Peter si vyhradil na aktivity 5 hodín. Aby zistil s ktorou aktivitou začne, hodil si mincou. Aká je pravdepodobnosť, že sa Peter po týchto 5 hodinách nezranil, ani ho nebolela hlava?</blockquote>\n",
    "\n",
    "Skutočná pravdepodobnosť vypočítaná v práci: $0.701$\n",
    "\n",
    "Nájdime empirickú hodnotu:"
   ]
  },
  {
   "cell_type": "code",
   "execution_count": 15,
   "metadata": {},
   "outputs": [
    {
     "name": "stdout",
     "output_type": "stream",
     "text": [
      "Empiricka pravdepodobnost:\t0.7015\n"
     ]
    }
   ],
   "source": [
    "# volitelny parameter N - pocet realizacii\n",
    "N = 100_000\n",
    "\n",
    "# pocitadlo uspesnych realizacii\n",
    "n_of_success = 0\n",
    "\n",
    "# simulacia\n",
    "for _ in range(N):\n",
    "    X = markov_chain(k=5, prob_matrix=P, init_dist=zaciatok_50_50)\n",
    "    if X[-1] < 2:\n",
    "        n_of_success += 1\n",
    "\n",
    "# vypis\n",
    "print(f\"Empiricka pravdepodobnost:\\t{n_of_success / N:.4f}\")"
   ]
  }
 ],
 "metadata": {
  "kernelspec": {
   "display_name": "Python 3 (ipykernel)",
   "language": "python",
   "name": "python3"
  },
  "language_info": {
   "codemirror_mode": {
    "name": "ipython",
    "version": 3
   },
   "file_extension": ".py",
   "mimetype": "text/x-python",
   "name": "python",
   "nbconvert_exporter": "python",
   "pygments_lexer": "ipython3",
   "version": "3.7.5"
  }
 },
 "nbformat": 4,
 "nbformat_minor": 1
}
