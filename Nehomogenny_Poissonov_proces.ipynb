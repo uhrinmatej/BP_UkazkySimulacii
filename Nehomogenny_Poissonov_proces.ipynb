{
 "cells": [
  {
   "cell_type": "markdown",
   "metadata": {},
   "source": [
    "**Autor:** [Matej Uhrin](mailto:5283652@upjs.sk)\n",
    "\n",
    "**Podporné materiály k bakalárskej práci <i>Simulácie vybraných stochastických procesov v interaktívnom prostredí</i>**\n",
    "\n",
    "***\n",
    "\n",
    "<br>\n",
    "\n",
    "**<font size=10 color=brown> Nehomogénny Poissonov proces</font>**\n",
    "\n",
    "<br>\n",
    "\n",
    "<a id=table_of_contents></a>\n",
    "##  Obsah\n",
    "* [Algoritmus simulácie zamietacou metódou](#algo_reject)\n",
    "* [Algoritmus simulácie inverznou transformáciou (Klein a Roberts)](#algo_inverse)\n",
    "* [Simulácia futbalového zápasu](#football)\n",
    "\n",
    "<font size=3>Pre návrat na obsah stlačte klávesu Home.</font>\n",
    "---"
   ]
  },
  {
   "cell_type": "code",
   "execution_count": 1,
   "metadata": {
    "pycharm": {
     "is_executing": true
    }
   },
   "outputs": [],
   "source": [
    "# nacitanie balikov\n",
    "import numpy as np\n",
    "import matplotlib.pyplot as plt\n",
    "\n",
    "\n",
    "# pomocne metody na vykreslovanie\n",
    "def plot_football_intensity_function(xp, yp):\n",
    "    plt.figure(figsize=(8, 4))\n",
    "    plt.plot(xp[:4], yp[:4], color=\"blue\")\n",
    "    plt.plot(xp[4:], yp[4:], color=\"blue\")\n",
    "    plt.ylim(0, 0.05)\n",
    "    plt.xticks([0, 15, 30, 45, 60, 75, 90, 95])\n",
    "    for x in [0, 15, 30, 45, 60, 75, 90, 95]:\n",
    "        plt.axvline(x, ymax=intensity_f(x) * 20, alpha=0.5, color=\"gray\", ls=\"--\")\n",
    "    plt.fill_between(xp, yp, np.zeros_like(xp), alpha=0.05, color=\"blue\")\n",
    "    plt.xlabel(\"Minúta zápasu\", size=10)\n",
    "    plt.ylabel(\"Intenzita gólov\", size=10)\n",
    "    plt.title(\"Funkcia intenzity gólov vo futbalovom zápase\", size=10)\n",
    "    plt.show()\n",
    "\n",
    "\n",
    "def football_goal_timeline(goals):\n",
    "    fig, ax = plt.subplots(figsize=(10, 1))\n",
    "    plt.xlim(0, 95)\n",
    "    plt.ylim(-0.75, 0.75)\n",
    "    plt.axhline(color=\"black\")\n",
    "    plt.xticks([0, 15, 30, 45, 60, 75, 90, 95], size=15)\n",
    "    for x in [0, 15, 30, 45, 60, 75, 90, 95]:\n",
    "        plt.axvline(x, alpha=0.5, color=\"gray\", ls=\"--\")\n",
    "    plt.tight_layout()\n",
    "    ax.spines['top'].set_visible(False)\n",
    "    ax.spines['bottom'].set_visible(False)\n",
    "    ax.spines['left'].set_visible(False)\n",
    "    ax.spines['right'].set_visible(False)\n",
    "    ax.set_yticks([])\n",
    "\n",
    "    home_goals = [t for t, k in goals if k == \"D\"]\n",
    "    away_goals = [t for t, k in goals if k == \"H\"]\n",
    "\n",
    "    plt.vlines(home_goals, ymin=0, ymax=0.5, color=\"blue\")\n",
    "    plt.scatter(home_goals, 0.5 * np.ones_like(home_goals), color=\"blue\", s=100)\n",
    "    plt.vlines(away_goals, ymin=-0.5, ymax=0, color=\"red\")\n",
    "    plt.scatter(away_goals, -0.5 * np.ones_like(away_goals), color=\"red\", s=100)\n",
    "\n",
    "    plt.text(100, 0, f\"{len(home_goals)}:{len(away_goals)}\", size=20, va=\"center\",\n",
    "             bbox=dict(boxstyle=\"round\", ec=\"gray\", fc=\"yellow\"))\n",
    "\n",
    "    plt.show()\n",
    "    \n",
    "def plot_poisson(events,max_time):\n",
    "    plt.figure(figsize=(12, 4))\n",
    "    plt.step([0, *events, max_time], [0, *np.arange(len(events) + 1)])\n",
    "    plt.xlim(0, max_time)\n",
    "    plt.ylim(0, None)\n",
    "    plt.title(f\"Realizácia nehomogénneho Poissonovho procesu\")\n",
    "    plt.xlabel(\"Čas\")\n",
    "    plt.ylabel(\"Počet udalostí\")\n",
    "    plt.show()"
   ]
  },
  {
   "cell_type": "markdown",
   "metadata": {},
   "source": [
    "***\n",
    "<a id=algo_reject><a>\n",
    "## Algoritmus simulácie zamietacou metódou\n",
    "Pre zjednodušenie situácie ukážeme algoritmy simulácie iba pre po častiach lineárne funkcie intenzity.\n",
    "\n",
    "<blockquote>Predpokladajme nehomogénny Poissonov proces $\\{N(t),t\\ge0\\}$, ktorý má funkciu intenzity $\\lambda(t)$. Naším cieľom je pre tento proces vygenerovať časy jednotlivých udalostí na intervale $[0,T]$. Algoritmus vieme zapísať do nasledujúcich krokov:\n",
    "\n",
    "1. Zvolíme deliace body $0=t_0 < t_1 < \\dots < t_{k+1} = T$ intervalu $[0,T]$.\n",
    "2. Pre každé $i=0,1,2\\dots,k$ zvolíme $\\lambda_i$ také, že $\\lambda_i\\ge\\lambda(s)$ pre $t_{i}\\le s \\le t_{i+1}$.\n",
    "3. Položíme $t=0$ (aktuálny čas) a $I=0$ (aktuálny interval)\n",
    "4. Opakujeme nasledovné:\n",
    "\t- Generujeme čas udalosti $s=-\\dfrac{\\ln{u}}{\\lambda_I}$, kde $u$ je náhodné číslo z intervalu $[0,1]$;\n",
    "\t- Pokiaľ platí $t+s>t_{I+1}$ opakujeme:\n",
    "\t    - Ak $I=k-1$, algoritmus ukončujeme.\n",
    "\t\t- Položíme $s=(t+s-t_{I+1})\\dfrac{\\lambda_I}{\\lambda_{I+1}}$, $t=t_{I+1}$ a $I=I+1$;\n",
    "\t- Položíme $t=t+s$ a určíme pravdepodobnosť prijatia $p=\\dfrac{\\lambda(t)}{\\lambda_I}$;\n",
    "\t- Generujeme náhodné číslo $u$ z intervalu $[0,1]$;\n",
    "\t- Ak $u<p$, potom udalosť v čase $t$ prijímame, inak ju zamietame.\n",
    "\n",
    "Na konci algoritmu dostaneme množinu prijatých časov, ktoré predstavujú časy udalostí pre realizáciu nehomogénneho Poissonovho procesu s príslušnou funkciou intenzity $\\lambda(t)$.\n",
    "</blockquote>\n",
    "\n",
    "\n",
    "Implementáciu tohto algoritmu v Python-e pre po častiach lineárnu funkciu intenzity a zvolené deliace body a horné ohraničenia $\\lambda_i$:"
   ]
  },
  {
   "cell_type": "code",
   "execution_count": 2,
   "metadata": {},
   "outputs": [],
   "source": [
    "def rejection_method(xp, yp, T, partition, lambdas):\n",
    "    \"\"\"\n",
    "    Vykona realizaciu nehomogenneho Poissonovho procesu s po castiach linearnou funkciou intenzity.\n",
    "    \n",
    "    :param xp: x-ove suradnice bodov funkcie\n",
    "    :param yp: y-ove suradnice bodov funkcie\n",
    "    :param T: maximalny cas simulacie\n",
    "    :param partition: delenie reprezentovane deliacimi bodmi\n",
    "    :param lambdas: horne ohranicenia (pre kazdy podinterval delenia)\n",
    "    :return: pole casov udalosti\n",
    "    \"\"\"\n",
    "    rng = np.random.default_rng()\n",
    "\n",
    "    arrivals = []\n",
    "    act_time = 0\n",
    "    act_interval = 0\n",
    "\n",
    "    while True:\n",
    "        u = rng.random()\n",
    "        s = - np.log(u) / lambdas[act_interval]\n",
    "\n",
    "        while act_time + s > partition[act_interval + 1]:\n",
    "            if act_interval == len(partition) - 2:\n",
    "                return np.array(arrivals)\n",
    "            s = (act_time + s - partition[act_interval + 1]) * lambdas[act_interval] / lambdas[act_interval + 1]\n",
    "            act_time = partition[act_interval + 1]\n",
    "            act_interval += 1\n",
    "\n",
    "        act_time += s\n",
    "        if act_time > T:\n",
    "            return np.array(arrivals)\n",
    "        prob = np.interp(act_time, xp, yp) / lambdas[act_interval]\n",
    "        u = rng.random()\n",
    "        if u < prob:\n",
    "            arrivals.append(act_time)"
   ]
  },
  {
   "cell_type": "markdown",
   "metadata": {},
   "source": [
    "Pre nájdenie optimálneho delenia využijeme postup popísaný v práci. Predtým zavedieme pomocný objekt reprezentujúci interval s lineárnou časťou danej funkcie."
   ]
  },
  {
   "cell_type": "code",
   "execution_count": 3,
   "metadata": {},
   "outputs": [],
   "source": [
    "class Interval:\n",
    "    def __init__(self, a, b, f_a, f_b):\n",
    "        self.a = a\n",
    "        self.b = b\n",
    "        self.f_a = f_a\n",
    "        self.f_b = f_b\n",
    "        self.zero_len = True if np.isclose(a - b, 0) else False\n",
    "        self.slope = (f_b - f_a) / (b - a) if not self.zero_len else None\n",
    "        self.intercept = f_a - self.slope * a if not self.zero_len else None\n",
    "\n",
    "    def interpolate(self, x):\n",
    "        return self.slope * x + self.intercept"
   ]
  },
  {
   "cell_type": "code",
   "execution_count": 4,
   "metadata": {},
   "outputs": [],
   "source": [
    "def make_optimal_partition(xp, yp, R=0.9, k_max=100):\n",
    "    '''\n",
    "    Pre zadanu po castiach linearnu funkciu intenzity najde optimalne delenie.\n",
    "\n",
    "    :param xp: x-ove suradnice bodov\n",
    "    :param yp: y-ove suradnice bodov\n",
    "    :param R: minimalna hodnota veliciny r (podiel obsahu pod hornym ohranicenim)\n",
    "    :param k_max: maximalny pocet casti delenia na linearnej casti funkcie\n",
    "    :return: partition - pole deliacich bodov\n",
    "            lambdas - pole hornych ohraniceni pre kazdy podinterval delenia\n",
    "    '''\n",
    "\n",
    "    partition = [0]\n",
    "    lambdas = []\n",
    "\n",
    "    # zapis intervalov nenulovej dlzky\n",
    "    ints = [Interval(a, b, f_a, f_b) for a, b, f_a, f_b in zip(xp[:-1], xp[1:], yp[:-1], yp[1:]) if\n",
    "            not np.isclose(b - a, 0)]\n",
    "\n",
    "    for interval in ints:\n",
    "        if np.isclose(interval.slope, 0):\n",
    "            partition.append(interval.b)\n",
    "            if np.isclose(interval.a, 0):\n",
    "                lambdas.append(1e-10)\n",
    "            else:\n",
    "                lambdas.append(interval.a)\n",
    "        else:\n",
    "            k = int(min(k_max, np.ceil(R / (1 - R) * abs(interval.f_a - interval.f_b) / (interval.a + interval.b))))\n",
    "            points = [interval.a + i * (interval.b - interval.a) / k for i in range(k + 1)]\n",
    "            partition.extend(points[1:])\n",
    "            if interval.slope > 0:\n",
    "                lambdas.extend([interval.interpolate(x) for x in points[1:]])\n",
    "            else:\n",
    "                lambdas.extend([interval.interpolate(x) for x in points[:-1]])\n",
    "\n",
    "    return partition, lambdas"
   ]
  },
  {
   "cell_type": "markdown",
   "metadata": {},
   "source": [
    "Demonštrujme zamietaciu metódu s nasledujúcou funkciou intenzity a príslušným optimálnym delením.\n",
    "\n",
    "<img src=\"img/algo_95.png\" width=600>"
   ]
  },
  {
   "cell_type": "code",
   "execution_count": 5,
   "metadata": {},
   "outputs": [
    {
     "data": {
      "image/png": "[encoded data removed]",
      "text/plain": [
       "<Figure size 864x288 with 1 Axes>"
      ]
     },
     "metadata": {
      "needs_background": "light"
     },
     "output_type": "display_data"
    }
   ],
   "source": [
    "# definicia funkcie\n",
    "xp = [0, 5, 8, 8, 10, 12, 20]\n",
    "yp = [0, 5, 6, 3, 3, 14, 10]\n",
    "max_time = 20\n",
    "\n",
    "# delenie\n",
    "partition, lambdas = make_optimal_partition(xp, yp, R=0.95, k_max=100)\n",
    "\n",
    "# simulacia zamietacou metodou\n",
    "events = rejection_method(xp, yp, T=max_time, partition=partition, lambdas=lambdas)\n",
    "\n",
    "# vykreslenie\n",
    "plot_poisson(events, max_time)"
   ]
  },
  {
   "cell_type": "markdown",
   "metadata": {},
   "source": [
    "<a id=algo_inverse><a>\n",
    "## Algoritmus simulácie inverznou transformáciou (Klein a Roberts)\n",
    "<blockquote>\n",
    "\n",
    "1. Nech $\\lambda(t)$ je spojitá a nezáporná po častiach lineárna funkcia intenzity na intervale $[0,T]$ definovaná koncovými bodmi jednotlivých lineárnych funkcií $[t_i,\\lambda_i], i=0,1,\\dots,k$, $0=t_0<t_1< \\dots < t_k = T$.\n",
    "2. Pre každý interval $[t_{i-1},t_i],\\ i=1,2,\\dots, k$ určíme koeficienty $a_i$, $b_i$ lineárnej funkcie v tvare $a_it+b_i$ na danom intervale\n",
    "3. Položíme $t=0$ (aktuálny čas) a $i=1$ (aktuálny interval).\n",
    "4. Generujeme náhodné číslo $u$ z intervalu $[0,1]$ a položíme $u_k = 1-e^{-\\frac{a_i(t_i^2-t^2)}{2}-b_i(t_i-t)}$\n",
    "5. Pokým platí $u>u_k$, opakujeme:\n",
    "    - Položíme $u=\\dfrac{u-u_k}{1-u_k}$ a $i=i+1$.\n",
    "\t- Ak $i>k$, tak končíme algoritmus,\n",
    "\t\tinak položíme $t=t_{i-1}$ a $u_k = 1-e^{-\\frac{a_i(t_i^2-t^2)}{2}-b_i(t_i-t)}$\n",
    "6. Položíme $t=\\begin{cases}\n",
    "\t\\dfrac{-b_i+\\sqrt{b_i^2+a_i^2+t^2+2a_ib_it-2a_i\\ln{(1-u)}}}{2}\\qquad\\text{ak }a_i\\neq0;\\\\\n",
    "\tt-\\dfrac{\\ln{(1-u)}}{b_i}\\qquad\\text{ak }a_i=0\n",
    "\t\\end{cases}$\n",
    "\t- Ak $t<T$, určíme $t$ ako čas udalosti a pokračujeme 4. bodom,\n",
    "\tinak končíme algoritmus.\n",
    "\n",
    "Výstupom je opäť množina časov, ktoré predstavujú časy jednotlivých udalostí.\n",
    "</blockquote>\n",
    "\n",
    "Implementácia v Python-e:"
   ]
  },
  {
   "cell_type": "code",
   "execution_count": 6,
   "metadata": {},
   "outputs": [],
   "source": [
    "def klein_roberts(xp, yp, T):\n",
    "    rng = np.random.default_rng()\n",
    "\n",
    "    # zapis intervalov iba nenulovej dlzky\n",
    "    ints = [Interval(a, b, f_a, f_b) for a, b, f_a, f_b in zip(xp[:-1], xp[1:], yp[:-1], yp[1:]) if\n",
    "            not np.isclose(b - a, 0)]\n",
    "\n",
    "    arrivals = []\n",
    "    act_time = 0\n",
    "    i = 0\n",
    "\n",
    "    while True:\n",
    "        u = rng.random()\n",
    "\n",
    "        u_k = 1 - np.exp(\n",
    "            -(ints[i].slope / 2) * (ints[i].b ** 2 - act_time ** 2) - ints[i].intercept * (ints[i].b - act_time))\n",
    "\n",
    "        while u > u_k:\n",
    "            u = (u - u_k) / (1 - u_k)\n",
    "            i += 1\n",
    "            if i < len(ints):\n",
    "                act_time = ints[i].a\n",
    "                u_k = 1 - np.exp(-(ints[i].slope / 2) * (ints[i].b ** 2 - act_time ** 2) - ints[i].intercept * (\n",
    "                        ints[i].b - act_time))\n",
    "            else:\n",
    "                return np.array(arrivals)\n",
    "\n",
    "        a, b = ints[i].slope, ints[i].intercept\n",
    "        if np.isclose(a, 0):\n",
    "            act_time = act_time - np.log(1 - u) / b\n",
    "        else:\n",
    "            act_time = (-b + np.sqrt(\n",
    "                b ** 2 + a ** 2 * act_time ** 2 + 2 * a * b * act_time - 2 * a * np.log(1 - u))) / a\n",
    "        if act_time < T:\n",
    "            arrivals.append(act_time)\n",
    "        else:\n",
    "            return np.array(arrivals)"
   ]
  },
  {
   "cell_type": "markdown",
   "metadata": {},
   "source": [
    "Opäť ukážeme simuláciu na rovnakej funkcii intenzity."
   ]
  },
  {
   "cell_type": "code",
   "execution_count": 7,
   "metadata": {},
   "outputs": [
    {
     "data": {
      "image/png": "[encoded data removed]",
      "text/plain": [
       "<Figure size 864x288 with 1 Axes>"
      ]
     },
     "metadata": {
      "needs_background": "light"
     },
     "output_type": "display_data"
    }
   ],
   "source": [
    "# definicia funkcie\n",
    "xp = [0, 5, 8, 8, 10, 12, 20]\n",
    "yp = [0, 5, 6, 3, 3, 14, 10]\n",
    "max_time = 20\n",
    "\n",
    "# simulacia\n",
    "events = klein_roberts(xp, yp, T=max_time)\n",
    "\n",
    "# vykreslenie\n",
    "plot_poisson(events, max_time)"
   ]
  },
  {
   "cell_type": "markdown",
   "metadata": {},
   "source": [
    "***\n",
    "<a id=football><a>\n",
    "## Simulácia futbalového zápasu\n",
    "<blockquote>V tomto príklade bude našou úlohou simulovať priebeh futbalového zápasu. Predpokladajme, že zápas trvá vždy 95 minút (riadna hracia doba 90 minút + päťminútový nadstavený čas) a výskyt gólov počas futbalového zápasu sa riadi Poissonovým procesom s nasledujúcou funkciou intenzity:\n",
    "$$\\lambda(t)=\\begin{cases}\n",
    "\\hspace{9pt}0.0001t+0.027, \\qquad \\text{ak }0 < t \\le 15;\\\\\n",
    "\\hspace{9pt}0.0003t+0.024, \\qquad \\text{ak }15 < t \\le 60;\\\\\n",
    "\\hspace{9pt}0.0005t+0.018, \\qquad \\text{ak }30 < t \\le 45;\\\\\n",
    "-0.0001t+0.040, \\qquad \\text{ak }45 < t \\le 60;\\\\\n",
    "-0.0002t+0.046, \\qquad \\text{ak }60 < t \\le 75;\\\\\n",
    "\\hspace{9pt}0.0002t+0.016, \\qquad \\text{ak }75 < t \\le 95.\\\\\n",
    "\\end{cases}$$\n",
    "Historicky, 57% všetkých gólov strelil domáci tím. Predpokladajme teda, že ak padne gól v zápase, tak pravdepodobnosť, že ho strelia domáci je $p_d=0.57$. Analogicky, pre hostí $p_h=0.43$.</blockquote>"
   ]
  },
  {
   "cell_type": "code",
   "execution_count": 8,
   "metadata": {},
   "outputs": [],
   "source": [
    "# zapis funkcie intenzity\n",
    "\n",
    "def intensity_f(t):\n",
    "    if 0 <= t <= 15:\n",
    "        return 0.0001 * t + 0.027\n",
    "    if 15 < t <= 30:\n",
    "        return 0.0003 * t + 0.024\n",
    "    if 30 < t <= 45:\n",
    "        return 0.0005 * t + 0.018\n",
    "    if 45 < t <= 60:\n",
    "        return -0.0001 * t + 0.040\n",
    "    if 60 < t <= 75:\n",
    "        return -0.0002 * t + 0.046\n",
    "    if 75 < t <= 95:\n",
    "        return 0.0002 * t + 0.016\n",
    "    return 0\n",
    "\n",
    "\n",
    "#pozor na skok v 45. minute, pouzijeme eps pre limitu sprava\n",
    "eps = 1e-10\n",
    "xp = [0, 15, 30, 45, 45 + eps, 60, 75, 95]\n",
    "yp = list(map(intensity_f, xp))"
   ]
  },
  {
   "cell_type": "code",
   "execution_count": 9,
   "metadata": {},
   "outputs": [
    {
     "data": {
      "image/png": "[encoded data removed]",
      "text/plain": [
       "<Figure size 576x288 with 1 Axes>"
      ]
     },
     "metadata": {
      "needs_background": "light"
     },
     "output_type": "display_data"
    }
   ],
   "source": [
    "# vykreslenie funkcie intenzity\n",
    "plot_football_intensity_function(xp, yp)"
   ]
  },
  {
   "cell_type": "markdown",
   "metadata": {},
   "source": [
    "Následne sa pokúsime empiricky overiť odpovede na tieto otázky:\n",
    "1. Aký je očakávaný počet gólov v zápase?\n",
    "2. Aká je pravdepodobnosť remízy alebo výhry domácich či hostí?\n",
    "3. Aká je pravdepodobnosť, že v zápase nepadne žiaden gól? A aká, že padne gól v nadstavenom čase?"
   ]
  },
  {
   "cell_type": "code",
   "execution_count": 10,
   "metadata": {},
   "outputs": [],
   "source": [
    "def football_match_sim(xp, yp, p_d=0.57):\n",
    "    \"\"\"\n",
    "    Simulacia futbaloveho zapasu ako realizacia nehomogenneho Poissonovho procesu.\n",
    "    \n",
    "    :param xp: x-ove suradnice bodov funkcie intenzity (po castiach linearnej)\n",
    "    :param yp: y-ove suradnice bodov funkcie intenzity (po castiach linearnej)\n",
    "    :param p_d: Pravdepodobnost golu domacich\n",
    "    :return: Pole dvojic (t,k), kde t je cas golu a k je hodnota \"D\" (domaci) alebo \"H\" (hostia) - muzstvo, ktore gol strelilo\n",
    "    \"\"\"\n",
    "    rng = np.random.default_rng()\n",
    "\n",
    "    partition, lambdas = make_optimal_partition(xp, yp)\n",
    "\n",
    "    goal_times = rejection_method(xp, yp, T=95, partition=partition, lambdas=lambdas)\n",
    "    goal_teams = rng.choice([\"D\", \"H\"], size=len(goal_times), p=[p_d, 1 - p_d])\n",
    "    return list(zip(goal_times, goal_teams))"
   ]
  },
  {
   "cell_type": "markdown",
   "metadata": {},
   "source": [
    "Niekoľko ilustračných realizácií:"
   ]
  },
  {
   "cell_type": "code",
   "execution_count": 14,
   "metadata": {},
   "outputs": [
    {
     "data": {
      "image/png": "[encoded data removed]",
      "text/plain": [
       "<Figure size 720x72 with 1 Axes>"
      ]
     },
     "metadata": {
      "needs_background": "light"
     },
     "output_type": "display_data"
    },
    {
     "data": {
      "image/png": "[encoded data removed]",
      "text/plain": [
       "<Figure size 720x72 with 1 Axes>"
      ]
     },
     "metadata": {
      "needs_background": "light"
     },
     "output_type": "display_data"
    },
    {
     "data": {
      "image/png": "[encoded data removed]",
      "text/plain": [
       "<Figure size 720x72 with 1 Axes>"
      ]
     },
     "metadata": {
      "needs_background": "light"
     },
     "output_type": "display_data"
    },
    {
     "data": {
      "image/png": "[encoded data removed]",
      "text/plain": [
       "<Figure size 720x72 with 1 Axes>"
      ]
     },
     "metadata": {
      "needs_background": "light"
     },
     "output_type": "display_data"
    },
    {
     "data": {
      "image/png": "[encoded data removed]",
      "text/plain": [
       "<Figure size 720x72 with 1 Axes>"
      ]
     },
     "metadata": {
      "needs_background": "light"
     },
     "output_type": "display_data"
    }
   ],
   "source": [
    "for _ in range(5):\n",
    "    football_goal_timeline(football_match_sim(xp, yp))"
   ]
  },
  {
   "cell_type": "code",
   "execution_count": 12,
   "metadata": {},
   "outputs": [
    {
     "name": "stdout",
     "output_type": "stream",
     "text": [
      "\t\t\t\t\t\t\tSkutocna hodnota\tEmpiricka hodnota\n",
      "Priemerny pocet golov v zapase:\t\t\t\t3.0975\t\t\t3.0945\n",
      "Pravdepodobnost remizy:\t\t\t\t\t0.232755\t\t0.2359\n",
      "Pravdepodobnost vyhry domacich:\t\t\t\t0.476968\t\t0.4751\n",
      "Pravdepodobnost vyhry hosti:\t\t\t\t0.290277\t\t0.289\n",
      "Pravdepodobnost, ze nepadne ziaden gol:\t\t\t0.045162\t\t0.0457\n",
      "Pravdepodobnost, ze padne gol v nadstavenom case:\t0.158442\t\t0.1548\n"
     ]
    }
   ],
   "source": [
    "# volitelny parameter N - pocet realizacii\n",
    "N = 10_000\n",
    "\n",
    "# pocitadla meranych velicin\n",
    "n_of_goals = 0\n",
    "n_of_home_wins = 0\n",
    "n_of_away_wins = 0\n",
    "n_of_draws = 0\n",
    "n_of_goalless_matches = 0\n",
    "n_of_extratime_goal_matches = 0\n",
    "\n",
    "# simulacia \n",
    "for _ in range(N):\n",
    "    goals = football_match_sim(xp, yp)\n",
    "\n",
    "    home_goals = [t for t, k in goals if k == \"D\"]\n",
    "    away_goals = [t for t, k in goals if k == \"H\"]\n",
    "\n",
    "    if len(home_goals) == len(away_goals):\n",
    "        n_of_draws += 1\n",
    "    elif len(home_goals) > len(away_goals):\n",
    "        n_of_home_wins += 1\n",
    "    else:\n",
    "        n_of_away_wins += 1\n",
    "\n",
    "    n_of_goals += len(goals)\n",
    "    if len(goals) == 0:\n",
    "        n_of_goalless_matches += 1\n",
    "\n",
    "    for time in home_goals + away_goals:\n",
    "        if time > 90:\n",
    "            n_of_extratime_goal_matches += 1\n",
    "            break\n",
    "\n",
    "# vypis empirickych hodnot\n",
    "print(f\"\\t\\t\\t\\t\\t\\t\\tSkutocna hodnota\\tEmpiricka hodnota\")\n",
    "print(f\"Priemerny pocet golov v zapase:\\t\\t\\t\\t3.0975\\t\\t\\t{n_of_goals / N:.4f}\")\n",
    "print(f\"Pravdepodobnost remizy:\\t\\t\\t\\t\\t0.232755\\t\\t{n_of_draws / N}\")\n",
    "print(f\"Pravdepodobnost vyhry domacich:\\t\\t\\t\\t0.476968\\t\\t{n_of_home_wins / N}\")\n",
    "print(f\"Pravdepodobnost vyhry hosti:\\t\\t\\t\\t0.290277\\t\\t{n_of_away_wins / N}\")\n",
    "print(f\"Pravdepodobnost, ze nepadne ziaden gol:\\t\\t\\t0.045162\\t\\t{n_of_goalless_matches / N}\")\n",
    "print(f\"Pravdepodobnost, ze padne gol v nadstavenom case:\\t0.158442\\t\\t{n_of_extratime_goal_matches / N}\")"
   ]
  }
 ],
 "metadata": {
  "kernelspec": {
   "display_name": "Python 3 (ipykernel)",
   "language": "python",
   "name": "python3"
  },
  "language_info": {
   "codemirror_mode": {
    "name": "ipython",
    "version": 3
   },
   "file_extension": ".py",
   "mimetype": "text/x-python",
   "name": "python",
   "nbconvert_exporter": "python",
   "pygments_lexer": "ipython3",
   "version": "3.7.5"
  }
 },
 "nbformat": 4,
 "nbformat_minor": 1
}
